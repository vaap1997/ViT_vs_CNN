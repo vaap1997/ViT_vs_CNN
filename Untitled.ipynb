{
 "cells": [
  {
   "cell_type": "code",
   "execution_count": 18,
   "id": "e3673cd9-3c5c-4f03-bbd2-f286435f70c0",
   "metadata": {},
   "outputs": [
    {
     "name": "stderr",
     "output_type": "stream",
     "text": [
      "WARNING:absl:At this time, the v2.11+ optimizer `tf.keras.optimizers.RestoredOptimizer` runs slowly on M1/M2 Macs, please use the legacy Keras optimizer instead, located at `tf.keras.optimizers.legacy.RestoredOptimizer`.\n",
      "WARNING:absl:At this time, the v2.11+ optimizer `tf.keras.optimizers.Adam` runs slowly on M1/M2 Macs, please use the legacy Keras optimizer instead, located at `tf.keras.optimizers.legacy.Adam`.\n",
      "WARNING:absl:There is a known slowdown when using v2.11+ Keras optimizers on M1/M2 Macs. Falling back to the legacy Keras optimizer, i.e., `tf.keras.optimizers.legacy.Adam`.\n",
      "WARNING:absl:At this time, the v2.11+ optimizer `tf.keras.optimizers.RestoredOptimizer` runs slowly on M1/M2 Macs, please use the legacy Keras optimizer instead, located at `tf.keras.optimizers.legacy.RestoredOptimizer`.\n",
      "2024-02-12 13:59:40.182969: I tensorflow/core/common_runtime/executor.cc:1197] [/device:CPU:0] (DEBUG INFO) Executor start aborting (this does not indicate an error and you can ignore this message): INVALID_ARGUMENT: You must feed a value for placeholder tensor 'inputs' with dtype float and shape [?,16,96]\n",
      "\t [[{{node inputs}}]]\n",
      "2024-02-12 13:59:40.184792: I tensorflow/core/common_runtime/executor.cc:1197] [/device:CPU:0] (DEBUG INFO) Executor start aborting (this does not indicate an error and you can ignore this message): INVALID_ARGUMENT: You must feed a value for placeholder tensor 'Placeholder' with dtype float and shape [?,16,96]\n",
      "\t [[{{node Placeholder}}]]\n",
      "WARNING:absl:At this time, the v2.11+ optimizer `tf.keras.optimizers.Adam` runs slowly on M1/M2 Macs, please use the legacy Keras optimizer instead, located at `tf.keras.optimizers.legacy.Adam`.\n",
      "WARNING:absl:There is a known slowdown when using v2.11+ Keras optimizers on M1/M2 Macs. Falling back to the legacy Keras optimizer, i.e., `tf.keras.optimizers.legacy.Adam`.\n"
     ]
    }
   ],
   "source": [
    "import tensorflow as tf\n",
    "import numpy as np\n",
    "import pandas as pd\n",
    "import matplotlib.pyplot as plt\n",
    "import anvil.server\n",
    "import anvil.media\n",
    "import anvil.mpl_util\n",
    "anvil.server.connect(\"server_6YD55HP45RX7V6UHWRRAST3G-WOK7HWGMAN5O7RYP\")\n",
    "\n",
    "CNNmodel = tf.keras.models.load_model('Models/CNNmodel_mnist')\n",
    "ViTmodel = tf.keras.models.load_model('Models/ViT_mnist')\n",
    "pixels = pd.read_csv('example_nmist.csv',header=None,index_col=False)\n"
   ]
  },
  {
   "cell_type": "code",
   "execution_count": null,
   "id": "69facb4b-f4b2-48fe-b704-30a38a5d9a61",
   "metadata": {},
   "outputs": [],
   "source": [
    "@anvil.server.callable\n",
    "def predict_CNN(file):\n",
    "  with anvil.media.TempFile(file) as filename:\n",
    "    pixels = pd.read_csv(filename, header=None,index_col=False)\n",
    "\n",
    "  if (pixels > 1).any().any():\n",
    "    pixels = pixels/255\n",
    "  pixels = np.reshape(pixels.values,(28,28,1))\n",
    "  pixels = np.expand_dims(pixels, axis=0)\n",
    "\n",
    "  pred_probs2 = CNNmodel.predict(pixels)\n",
    "  ind = np.argpartition(pred_probs2[0], -5)[-5:]\n",
    "  top5 = np.flip(ind[np.argsort(pred_probs2[0][ind])])\n",
    "  values = pred_probs2[0][top5]\n",
    "  pred2 = np.argmax(pred_probs2, axis=1)\n",
    "\n",
    "  fig, ax1 = plt.subplots(figsize=(9, 7), layout='constrained')\n",
    "  ax1.barh(top5.astype(str), values, align='center', height=0.5,color='skyblue')\n",
    "  ax1.invert_yaxis()\n",
    "  return anvil.mpl_util.plot_image(), pred2[0]\n"
   ]
  },
  {
   "cell_type": "code",
   "execution_count": 19,
   "id": "b5f4dd99-b163-44ed-83e9-6beb6bbfcdae",
   "metadata": {},
   "outputs": [
    {
     "name": "stdout",
     "output_type": "stream",
     "text": [
      "1/1 [==============================] - 0s 90ms/step\n"
     ]
    },
    {
     "ename": "IndexError",
     "evalue": "index 4 is out of bounds for axis 0 with size 1",
     "output_type": "error",
     "traceback": [
      "\u001b[0;31m---------------------------------------------------------------------------\u001b[0m",
      "\u001b[0;31mIndexError\u001b[0m                                Traceback (most recent call last)",
      "Cell \u001b[0;32mIn[19], line 9\u001b[0m\n\u001b[1;32m      7\u001b[0m values \u001b[38;5;241m=\u001b[39m pred_probs2[\u001b[38;5;241m0\u001b[39m][top5]\n\u001b[1;32m      8\u001b[0m pred2 \u001b[38;5;241m=\u001b[39m np\u001b[38;5;241m.\u001b[39margmax(pred_probs2, axis\u001b[38;5;241m=\u001b[39m\u001b[38;5;241m1\u001b[39m)\n\u001b[0;32m----> 9\u001b[0m pred_probs2[top5]\n",
      "\u001b[0;31mIndexError\u001b[0m: index 4 is out of bounds for axis 0 with size 1"
     ]
    }
   ],
   "source": [
    "pixels = np.reshape(pixels.values,(28,28,1))\n",
    "pixels = np.expand_dims(pixels, axis=0)\n",
    "\n",
    "pred_probs2 = CNNmodel.predict(pixels)\n",
    "ind = np.argpartition(pred_probs2[0], -5)[-5:]\n",
    "top5 = np.flip(ind[np.argsort(pred_probs2[0][ind])])\n",
    "values = pred_probs2[0][top5]\n",
    "pred2 = np.argmax(pred_probs2, axis=1)\n"
   ]
  },
  {
   "cell_type": "code",
   "execution_count": 42,
   "id": "9c620420-696d-4d0d-ae4d-30cec2df435d",
   "metadata": {},
   "outputs": [
    {
     "data": {
      "image/png": "[encoded data removed]",
      "text/plain": [
       "<Figure size 900x700 with 1 Axes>"
      ]
     },
     "metadata": {},
     "output_type": "display_data"
    }
   ],
   "source": [
    "fig, ax1 = plt.subplots(figsize=(9, 7), layout='constrained')\n",
    "barchar = ax1.barh(top5.astype(str), values, align='center', height=0.5,color='#B0C6CE')\n",
    "ax1.invert_yaxis()\n",
    "barchar[0].set_color('#15616D')\n",
    "plt.show()"
   ]
  },
  {
   "cell_type": "code",
   "execution_count": 12,
   "id": "fc40f757-1f0f-4112-9238-ac68aa9bf97f",
   "metadata": {},
   "outputs": [
    {
     "data": {
      "text/plain": [
       "[4, 1, 2, 7, 8]"
      ]
     },
     "execution_count": 12,
     "metadata": {},
     "output_type": "execute_result"
    }
   ],
   "source": []
  },
  {
   "cell_type": "code",
   "execution_count": null,
   "id": "2d0feb2f-5465-4f89-87ca-42b0ca46cad2",
   "metadata": {},
   "outputs": [],
   "source": []
  }
 ],
 "metadata": {
  "kernelspec": {
   "display_name": "Python 3 (ipykernel)",
   "language": "python",
   "name": "python3"
  },
  "language_info": {
   "codemirror_mode": {
    "name": "ipython",
    "version": 3
   },
   "file_extension": ".py",
   "mimetype": "text/x-python",
   "name": "python",
   "nbconvert_exporter": "python",
   "pygments_lexer": "ipython3",
   "version": "3.11.5"
  }
 },
 "nbformat": 4,
 "nbformat_minor": 5
}
