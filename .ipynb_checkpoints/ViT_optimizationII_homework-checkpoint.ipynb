{
  "nbformat": 4,
  "nbformat_minor": 0,
  "metadata": {
    "colab": {
      "provenance": [],
      "gpuType": "T4",
      "machine_shape": "hm"
    },
    "kernelspec": {
      "name": "python3",
      "display_name": "Python 3"
    },
    "language_info": {
      "name": "python"
    },
    "accelerator": "GPU"
  },
  "cells": [
    {
      "cell_type": "code",
      "execution_count": 1,
      "metadata": {
        "id": "7KzxDaLFNJOj"
      },
      "outputs": [],
      "source": [
        "#set validation split = 0.2\n",
        "\n",
        "#multiple convolutional layers, different filter sizes, different number of filters, multiple max pool layers,\n",
        "#several dense layers, regularizers, dropout layers, different batch sizes or number of epochs;\n",
        "#whatever gets you greater than 99%- 99.5% accuracy on the validation set.\n",
        "#convolution = many small filters | multiple layers of convolution/maxpooling is usually helpful.\n",
        "\n",
        "#For the transformer, you can use different hidden, key/query, and value dimensions, different number of heads for the MHSA layers, different number of layers\n",
        "\n",
        "#Once you find two network structures that give you greater than 99% accuracy on the validation set, go back and train those networks on the entire training set.\n",
        "\n",
        "#Plot a few of the numbers you misclassify from the test set.\n"
      ]
    },
    {
      "cell_type": "code",
      "source": [
        "import tensorflow as tf\n",
        "import numpy as np\n",
        "import matplotlib.pyplot as plt\n",
        "from sklearn.metrics import confusion_matrix, ConfusionMatrixDisplay, classification_report\n",
        "\n",
        "%matplotlib inline"
      ],
      "metadata": {
        "id": "pc2pCPjLRT_v"
      },
      "execution_count": 2,
      "outputs": []
    },
    {
      "cell_type": "markdown",
      "source": [
        "# Upload DataSet"
      ],
      "metadata": {
        "id": "-g_kWDwwPvC5"
      }
    },
    {
      "cell_type": "code",
      "source": [
        "\n",
        "mnist = tf.keras.datasets.mnist\n",
        "(x_train, y_train), (x_test,y_test) = mnist.load_data()\n",
        "x_train, x_test = x_train/255, x_test/255\n",
        "\n",
        "ndata_train = x_train.shape[0]\n",
        "ndata_test = x_test.shape[0]\n",
        "\n",
        "plt.pcolor(1-x_train[9,::-1,:], cmap='gray')\n",
        "plt.axis('off')"
      ],
      "metadata": {
        "id": "386wAPEGN3QH",
        "colab": {
          "base_uri": "https://localhost:8080/",
          "height": 458
        },
        "outputId": "cde88be2-b0cc-48c1-f59b-1f2470b002fe"
      },
      "execution_count": 3,
      "outputs": [
        {
          "output_type": "stream",
          "name": "stdout",
          "text": [
            "Downloading data from https://storage.googleapis.com/tensorflow/tf-keras-datasets/mnist.npz\n",
            "11490434/11490434 [==============================] - 0s 0us/step\n"
          ]
        },
        {
          "output_type": "execute_result",
          "data": {
            "text/plain": [
              "(0.0, 28.0, 0.0, 28.0)"
            ]
          },
          "metadata": {},
          "execution_count": 3
        },
        {
          "output_type": "display_data",
          "data": {
            "text/plain": [
              "<Figure size 640x480 with 1 Axes>"
            ],
            "image/png": "[encoded data removed]"
          },
          "metadata": {}
        }
      ]
    },
    {
      "cell_type": "code",
      "source": [
        "#Reshaping it to 28x28x1\n",
        "\n",
        "x_train = x_train.reshape((ndata_train,28,28,1))\n",
        "x_test = x_test.reshape((ndata_test,28,28,1))\n",
        "\n",
        "xshape = x_train.shape[1:4]\n",
        "xshape"
      ],
      "metadata": {
        "id": "58nDCyz0Pz0m",
        "colab": {
          "base_uri": "https://localhost:8080/"
        },
        "outputId": "0d91b5ef-4fbf-4394-89bc-e5fedad6cb32"
      },
      "execution_count": 4,
      "outputs": [
        {
          "output_type": "execute_result",
          "data": {
            "text/plain": [
              "(28, 28, 1)"
            ]
          },
          "metadata": {},
          "execution_count": 4
        }
      ]
    },
    {
      "cell_type": "markdown",
      "source": [
        "# Convolution Neural Net"
      ],
      "metadata": {
        "id": "RvMB9i6EP0AT"
      }
    },
    {
      "cell_type": "code",
      "source": [
        "CNNmodel = tf.keras.models.Sequential([\n",
        "        tf.keras.layers.Conv2D(filters=16,kernel_size=(3,3),activation=tf.nn.relu,input_shape=xshape), #kernel_size : size of each filter\n",
        "        tf.keras.layers.Conv2D(filters=32, kernel_size=(3,3), activation='relu'),\n",
        "        tf.keras.layers.MaxPooling2D(pool_size = (4,4),strides=2),\n",
        "        tf.keras.layers.Dropout(0.25),\n",
        "        tf.keras.layers.Conv2D(filters=64, kernel_size=(5,5), activation='relu'),\n",
        "        tf.keras.layers.Conv2D(filters=128, kernel_size=(5,5), activation='relu'),\n",
        "        tf.keras.layers.MaxPooling2D(pool_size = (3,3),strides=3),\n",
        "        tf.keras.layers.Dropout(0.25),\n",
        "        tf.keras.layers.Flatten(),\n",
        "        tf.keras.layers.Dense(128,activation=tf.nn.relu,kernel_regularizer = tf.keras.regularizers.l1(0.0004)),\n",
        "        tf.keras.layers.Dropout(0.1),\n",
        "        tf.keras.layers.Dense(128,activation=tf.nn.relu,kernel_regularizer = tf.keras.regularizers.l1(0.0004)),\n",
        "        tf.keras.layers.Dense(10,activation=tf.nn.softmax)\n",
        "        ])"
      ],
      "metadata": {
        "id": "SBKHbtkHnKpt"
      },
      "execution_count": 39,
      "outputs": []
    },
    {
      "cell_type": "code",
      "source": [
        "custom_optimizer = tf.keras.optimizers.Adam(learning_rate=0.001)"
      ],
      "metadata": {
        "id": "oG4x8m-x2-0T"
      },
      "execution_count": 40,
      "outputs": []
    },
    {
      "cell_type": "code",
      "source": [
        "CNNmodel.compile(optimizer=custom_optimizer,\n",
        "              loss='sparse_categorical_crossentropy',\n",
        "              metrics=['accuracy'])\n",
        "\n",
        "\n",
        "CNNmodel.summary()"
      ],
      "metadata": {
        "colab": {
          "base_uri": "https://localhost:8080/"
        },
        "id": "4HJQPJc8nKyA",
        "outputId": "6465f170-573b-484b-ffc7-bd15290bb4d0"
      },
      "execution_count": 41,
      "outputs": [
        {
          "output_type": "stream",
          "name": "stdout",
          "text": [
            "Model: \"sequential_7\"\n",
            "_________________________________________________________________\n",
            " Layer (type)                Output Shape              Param #   \n",
            "=================================================================\n",
            " conv2d_28 (Conv2D)          (None, 26, 26, 16)        160       \n",
            "                                                                 \n",
            " conv2d_29 (Conv2D)          (None, 24, 24, 32)        4640      \n",
            "                                                                 \n",
            " max_pooling2d_14 (MaxPooli  (None, 11, 11, 32)        0         \n",
            " ng2D)                                                           \n",
            "                                                                 \n",
            " dropout_21 (Dropout)        (None, 11, 11, 32)        0         \n",
            "                                                                 \n",
            " conv2d_30 (Conv2D)          (None, 7, 7, 64)          51264     \n",
            "                                                                 \n",
            " conv2d_31 (Conv2D)          (None, 3, 3, 128)         204928    \n",
            "                                                                 \n",
            " max_pooling2d_15 (MaxPooli  (None, 1, 1, 128)         0         \n",
            " ng2D)                                                           \n",
            "                                                                 \n",
            " dropout_22 (Dropout)        (None, 1, 1, 128)         0         \n",
            "                                                                 \n",
            " flatten_7 (Flatten)         (None, 128)               0         \n",
            "                                                                 \n",
            " dense_21 (Dense)            (None, 128)               16512     \n",
            "                                                                 \n",
            " dropout_23 (Dropout)        (None, 128)               0         \n",
            "                                                                 \n",
            " dense_22 (Dense)            (None, 128)               16512     \n",
            "                                                                 \n",
            " dense_23 (Dense)            (None, 10)                1290      \n",
            "                                                                 \n",
            "=================================================================\n",
            "Total params: 295306 (1.13 MB)\n",
            "Trainable params: 295306 (1.13 MB)\n",
            "Non-trainable params: 0 (0.00 Byte)\n",
            "_________________________________________________________________\n"
          ]
        }
      ]
    },
    {
      "cell_type": "code",
      "source": [
        "CNNmodel.fit(x_train,y_train,epochs=50,validation_split=0.2,batch_size=300)"
      ],
      "metadata": {
        "colab": {
          "base_uri": "https://localhost:8080/"
        },
        "id": "x8WxStaTOsae",
        "outputId": "e8fa7b9c-def4-4c00-830b-1dfa666a7816"
      },
      "execution_count": 43,
      "outputs": [
        {
          "output_type": "stream",
          "name": "stdout",
          "text": [
            "Epoch 1/50\n",
            "160/160 [==============================] - 2s 14ms/step - loss: 0.0308 - accuracy: 0.9970 - val_loss: 0.0483 - val_accuracy: 0.9937\n",
            "Epoch 2/50\n",
            "160/160 [==============================] - 2s 12ms/step - loss: 0.0329 - accuracy: 0.9962 - val_loss: 0.0469 - val_accuracy: 0.9943\n",
            "Epoch 3/50\n",
            "160/160 [==============================] - 2s 12ms/step - loss: 0.0267 - accuracy: 0.9979 - val_loss: 0.0486 - val_accuracy: 0.9942\n",
            "Epoch 4/50\n",
            "160/160 [==============================] - 2s 12ms/step - loss: 0.0281 - accuracy: 0.9972 - val_loss: 0.0468 - val_accuracy: 0.9939\n",
            "Epoch 5/50\n",
            "160/160 [==============================] - 2s 12ms/step - loss: 0.0276 - accuracy: 0.9976 - val_loss: 0.0492 - val_accuracy: 0.9942\n",
            "Epoch 6/50\n",
            "160/160 [==============================] - 2s 13ms/step - loss: 0.0290 - accuracy: 0.9974 - val_loss: 0.0513 - val_accuracy: 0.9924\n",
            "Epoch 7/50\n",
            "160/160 [==============================] - 2s 13ms/step - loss: 0.0296 - accuracy: 0.9970 - val_loss: 0.0483 - val_accuracy: 0.9942\n",
            "Epoch 8/50\n",
            "160/160 [==============================] - 2s 13ms/step - loss: 0.0297 - accuracy: 0.9970 - val_loss: 0.0419 - val_accuracy: 0.9952\n",
            "Epoch 9/50\n",
            "160/160 [==============================] - 2s 13ms/step - loss: 0.0288 - accuracy: 0.9973 - val_loss: 0.0459 - val_accuracy: 0.9938\n",
            "Epoch 10/50\n",
            "160/160 [==============================] - 2s 13ms/step - loss: 0.0240 - accuracy: 0.9981 - val_loss: 0.0460 - val_accuracy: 0.9943\n",
            "Epoch 11/50\n",
            "160/160 [==============================] - 2s 13ms/step - loss: 0.0284 - accuracy: 0.9969 - val_loss: 0.0411 - val_accuracy: 0.9954\n",
            "Epoch 12/50\n",
            "160/160 [==============================] - 2s 13ms/step - loss: 0.0278 - accuracy: 0.9973 - val_loss: 0.0509 - val_accuracy: 0.9942\n",
            "Epoch 13/50\n",
            "160/160 [==============================] - 2s 13ms/step - loss: 0.0272 - accuracy: 0.9976 - val_loss: 0.0626 - val_accuracy: 0.9910\n",
            "Epoch 14/50\n",
            "160/160 [==============================] - 2s 13ms/step - loss: 0.0265 - accuracy: 0.9976 - val_loss: 0.0472 - val_accuracy: 0.9943\n",
            "Epoch 15/50\n",
            "160/160 [==============================] - 2s 13ms/step - loss: 0.0270 - accuracy: 0.9973 - val_loss: 0.0479 - val_accuracy: 0.9944\n",
            "Epoch 16/50\n",
            "160/160 [==============================] - 2s 13ms/step - loss: 0.0269 - accuracy: 0.9976 - val_loss: 0.0429 - val_accuracy: 0.9957\n",
            "Epoch 17/50\n",
            "160/160 [==============================] - 2s 12ms/step - loss: 0.0230 - accuracy: 0.9983 - val_loss: 0.0473 - val_accuracy: 0.9937\n",
            "Epoch 18/50\n",
            "160/160 [==============================] - 2s 12ms/step - loss: 0.0236 - accuracy: 0.9982 - val_loss: 0.0508 - val_accuracy: 0.9931\n",
            "Epoch 19/50\n",
            "160/160 [==============================] - 2s 12ms/step - loss: 0.0261 - accuracy: 0.9976 - val_loss: 0.0531 - val_accuracy: 0.9938\n",
            "Epoch 20/50\n",
            "160/160 [==============================] - 2s 12ms/step - loss: 0.0259 - accuracy: 0.9978 - val_loss: 0.0505 - val_accuracy: 0.9948\n",
            "Epoch 21/50\n",
            "160/160 [==============================] - 2s 12ms/step - loss: 0.0262 - accuracy: 0.9979 - val_loss: 0.0474 - val_accuracy: 0.9947\n",
            "Epoch 22/50\n",
            "160/160 [==============================] - 2s 12ms/step - loss: 0.0218 - accuracy: 0.9986 - val_loss: 0.0434 - val_accuracy: 0.9951\n",
            "Epoch 23/50\n",
            "160/160 [==============================] - 2s 12ms/step - loss: 0.0247 - accuracy: 0.9980 - val_loss: 0.0498 - val_accuracy: 0.9945\n",
            "Epoch 24/50\n",
            "160/160 [==============================] - 2s 12ms/step - loss: 0.0239 - accuracy: 0.9981 - val_loss: 0.0485 - val_accuracy: 0.9940\n",
            "Epoch 25/50\n",
            "160/160 [==============================] - 2s 12ms/step - loss: 0.0263 - accuracy: 0.9975 - val_loss: 0.0454 - val_accuracy: 0.9945\n",
            "Epoch 26/50\n",
            "160/160 [==============================] - 2s 12ms/step - loss: 0.0249 - accuracy: 0.9981 - val_loss: 0.0475 - val_accuracy: 0.9946\n",
            "Epoch 27/50\n",
            "160/160 [==============================] - 2s 12ms/step - loss: 0.0246 - accuracy: 0.9977 - val_loss: 0.0515 - val_accuracy: 0.9937\n",
            "Epoch 28/50\n",
            "160/160 [==============================] - 2s 12ms/step - loss: 0.0260 - accuracy: 0.9979 - val_loss: 0.0507 - val_accuracy: 0.9944\n",
            "Epoch 29/50\n",
            "160/160 [==============================] - 2s 12ms/step - loss: 0.0243 - accuracy: 0.9980 - val_loss: 0.0454 - val_accuracy: 0.9944\n",
            "Epoch 30/50\n",
            "160/160 [==============================] - 2s 12ms/step - loss: 0.0232 - accuracy: 0.9985 - val_loss: 0.0439 - val_accuracy: 0.9945\n",
            "Epoch 31/50\n",
            "160/160 [==============================] - 2s 12ms/step - loss: 0.0248 - accuracy: 0.9978 - val_loss: 0.0603 - val_accuracy: 0.9927\n",
            "Epoch 32/50\n",
            "160/160 [==============================] - 2s 12ms/step - loss: 0.0243 - accuracy: 0.9980 - val_loss: 0.0435 - val_accuracy: 0.9944\n",
            "Epoch 33/50\n",
            "160/160 [==============================] - 2s 12ms/step - loss: 0.0241 - accuracy: 0.9981 - val_loss: 0.0433 - val_accuracy: 0.9953\n",
            "Epoch 34/50\n",
            "160/160 [==============================] - 2s 12ms/step - loss: 0.0271 - accuracy: 0.9978 - val_loss: 0.0523 - val_accuracy: 0.9938\n",
            "Epoch 35/50\n",
            "160/160 [==============================] - 2s 12ms/step - loss: 0.0257 - accuracy: 0.9979 - val_loss: 0.0523 - val_accuracy: 0.9939\n",
            "Epoch 36/50\n",
            "160/160 [==============================] - 2s 12ms/step - loss: 0.0245 - accuracy: 0.9981 - val_loss: 0.0446 - val_accuracy: 0.9950\n",
            "Epoch 37/50\n",
            "160/160 [==============================] - 2s 12ms/step - loss: 0.0196 - accuracy: 0.9987 - val_loss: 0.0452 - val_accuracy: 0.9945\n",
            "Epoch 38/50\n",
            "160/160 [==============================] - 2s 12ms/step - loss: 0.0199 - accuracy: 0.9987 - val_loss: 0.0441 - val_accuracy: 0.9948\n",
            "Epoch 39/50\n",
            "160/160 [==============================] - 2s 12ms/step - loss: 0.0218 - accuracy: 0.9983 - val_loss: 0.0487 - val_accuracy: 0.9945\n",
            "Epoch 40/50\n",
            "160/160 [==============================] - 2s 12ms/step - loss: 0.0222 - accuracy: 0.9984 - val_loss: 0.0577 - val_accuracy: 0.9935\n",
            "Epoch 41/50\n",
            "160/160 [==============================] - 2s 12ms/step - loss: 0.0260 - accuracy: 0.9976 - val_loss: 0.0490 - val_accuracy: 0.9936\n",
            "Epoch 42/50\n",
            "160/160 [==============================] - 2s 12ms/step - loss: 0.0239 - accuracy: 0.9981 - val_loss: 0.0469 - val_accuracy: 0.9945\n",
            "Epoch 43/50\n",
            "160/160 [==============================] - 2s 12ms/step - loss: 0.0207 - accuracy: 0.9985 - val_loss: 0.0402 - val_accuracy: 0.9952\n",
            "Epoch 44/50\n",
            "160/160 [==============================] - 2s 12ms/step - loss: 0.0241 - accuracy: 0.9979 - val_loss: 0.0531 - val_accuracy: 0.9937\n",
            "Epoch 45/50\n",
            "160/160 [==============================] - 2s 12ms/step - loss: 0.0249 - accuracy: 0.9982 - val_loss: 0.0439 - val_accuracy: 0.9950\n",
            "Epoch 46/50\n",
            "160/160 [==============================] - 2s 12ms/step - loss: 0.0198 - accuracy: 0.9989 - val_loss: 0.0465 - val_accuracy: 0.9948\n",
            "Epoch 47/50\n",
            "160/160 [==============================] - 2s 12ms/step - loss: 0.0196 - accuracy: 0.9988 - val_loss: 0.0464 - val_accuracy: 0.9928\n",
            "Epoch 48/50\n",
            "160/160 [==============================] - 2s 12ms/step - loss: 0.0197 - accuracy: 0.9986 - val_loss: 0.0462 - val_accuracy: 0.9950\n",
            "Epoch 49/50\n",
            "160/160 [==============================] - 2s 12ms/step - loss: 0.0226 - accuracy: 0.9983 - val_loss: 0.0503 - val_accuracy: 0.9943\n",
            "Epoch 50/50\n",
            "160/160 [==============================] - 2s 12ms/step - loss: 0.0240 - accuracy: 0.9983 - val_loss: 0.0486 - val_accuracy: 0.9952\n"
          ]
        },
        {
          "output_type": "execute_result",
          "data": {
            "text/plain": [
              "<keras.src.callbacks.History at 0x7b2fb04cd930>"
            ]
          },
          "metadata": {},
          "execution_count": 43
        }
      ]
    },
    {
      "cell_type": "markdown",
      "source": [
        "### Train in whole data train"
      ],
      "metadata": {
        "id": "rTYTEkfIO4Kj"
      }
    },
    {
      "cell_type": "code",
      "source": [
        "CNNmodel.fit(x_train,y_train,epochs=20,validation_split=0,batch_size=300)"
      ],
      "metadata": {
        "colab": {
          "base_uri": "https://localhost:8080/"
        },
        "id": "7Xr513npAjyH",
        "outputId": "5e746f80-331b-4d1d-d481-bb46d09a2cee"
      },
      "execution_count": 44,
      "outputs": [
        {
          "output_type": "stream",
          "name": "stdout",
          "text": [
            "Epoch 1/20\n",
            "200/200 [==============================] - 2s 12ms/step - loss: 0.0348 - accuracy: 0.9965\n",
            "Epoch 2/20\n",
            "200/200 [==============================] - 2s 12ms/step - loss: 0.0301 - accuracy: 0.9969\n",
            "Epoch 3/20\n",
            "200/200 [==============================] - 2s 12ms/step - loss: 0.0260 - accuracy: 0.9976\n",
            "Epoch 4/20\n",
            "200/200 [==============================] - 2s 12ms/step - loss: 0.0265 - accuracy: 0.9973\n",
            "Epoch 5/20\n",
            "200/200 [==============================] - 2s 12ms/step - loss: 0.0232 - accuracy: 0.9979\n",
            "Epoch 6/20\n",
            "200/200 [==============================] - 2s 12ms/step - loss: 0.0242 - accuracy: 0.9982\n",
            "Epoch 7/20\n",
            "200/200 [==============================] - 2s 12ms/step - loss: 0.0241 - accuracy: 0.9982\n",
            "Epoch 8/20\n",
            "200/200 [==============================] - 2s 12ms/step - loss: 0.0276 - accuracy: 0.9975\n",
            "Epoch 9/20\n",
            "200/200 [==============================] - 2s 12ms/step - loss: 0.0244 - accuracy: 0.9980\n",
            "Epoch 10/20\n",
            "200/200 [==============================] - 2s 12ms/step - loss: 0.0196 - accuracy: 0.9987\n",
            "Epoch 11/20\n",
            "200/200 [==============================] - 2s 12ms/step - loss: 0.0220 - accuracy: 0.9981\n",
            "Epoch 12/20\n",
            "200/200 [==============================] - 2s 12ms/step - loss: 0.0240 - accuracy: 0.9981\n",
            "Epoch 13/20\n",
            "200/200 [==============================] - 2s 12ms/step - loss: 0.0213 - accuracy: 0.9983\n",
            "Epoch 14/20\n",
            "200/200 [==============================] - 2s 12ms/step - loss: 0.0215 - accuracy: 0.9983\n",
            "Epoch 15/20\n",
            "200/200 [==============================] - 2s 12ms/step - loss: 0.0202 - accuracy: 0.9985\n",
            "Epoch 16/20\n",
            "200/200 [==============================] - 2s 12ms/step - loss: 0.0264 - accuracy: 0.9975\n",
            "Epoch 17/20\n",
            "200/200 [==============================] - 2s 12ms/step - loss: 0.0237 - accuracy: 0.9980\n",
            "Epoch 18/20\n",
            "200/200 [==============================] - 2s 12ms/step - loss: 0.0234 - accuracy: 0.9980\n",
            "Epoch 19/20\n",
            "200/200 [==============================] - 2s 11ms/step - loss: 0.0219 - accuracy: 0.9985\n",
            "Epoch 20/20\n",
            "200/200 [==============================] - 2s 12ms/step - loss: 0.0224 - accuracy: 0.9982\n"
          ]
        },
        {
          "output_type": "execute_result",
          "data": {
            "text/plain": [
              "<keras.src.callbacks.History at 0x7b2fb04e3d60>"
            ]
          },
          "metadata": {},
          "execution_count": 44
        }
      ]
    },
    {
      "cell_type": "markdown",
      "source": [
        "### Predict test"
      ],
      "metadata": {
        "id": "tH4CYA-tO_ez"
      }
    },
    {
      "cell_type": "code",
      "source": [
        "pred_probs2 = CNNmodel.predict(x_test)\n",
        "pred2 = np.argmax(pred_probs2, axis=1)\n",
        "print(np.mean(pred2==y_test))"
      ],
      "metadata": {
        "colab": {
          "base_uri": "https://localhost:8080/"
        },
        "id": "eCPFNnI6A_bq",
        "outputId": "71a8c07b-6156-4a37-e6e1-ac3c319b052f"
      },
      "execution_count": 45,
      "outputs": [
        {
          "output_type": "stream",
          "name": "stdout",
          "text": [
            "313/313 [==============================] - 1s 2ms/step\n",
            "0.9961\n"
          ]
        }
      ]
    },
    {
      "cell_type": "code",
      "source": [
        "print(f\"Number of misclassifications: {np.sum(pred2 != y_test)}\")\n",
        "print(classification_report(y_test, pred2, target_names=['1','2','3','4','5','6','7','8','9','10']))\n",
        "# Plot confusion matrix\n",
        "cm = confusion_matrix(y_test, pred2)\n",
        "disp = ConfusionMatrixDisplay(confusion_matrix=cm, display_labels=np.arange(10))\n",
        "disp.plot(cmap='viridis', values_format='d')\n",
        "\n",
        "plt.show()"
      ],
      "metadata": {
        "colab": {
          "base_uri": "https://localhost:8080/",
          "height": 762
        },
        "id": "jRv4j4nBQSbL",
        "outputId": "6409a3f1-0381-48e6-dcea-060c0238db95"
      },
      "execution_count": 46,
      "outputs": [
        {
          "output_type": "stream",
          "name": "stdout",
          "text": [
            "Number of misclassifications: 39\n",
            "              precision    recall  f1-score   support\n",
            "\n",
            "           1       1.00      1.00      1.00       980\n",
            "           2       1.00      1.00      1.00      1135\n",
            "           3       0.99      1.00      0.99      1032\n",
            "           4       1.00      1.00      1.00      1010\n",
            "           5       1.00      1.00      1.00       982\n",
            "           6       1.00      0.99      0.99       892\n",
            "           7       1.00      0.99      1.00       958\n",
            "           8       1.00      1.00      1.00      1028\n",
            "           9       1.00      0.99      1.00       974\n",
            "          10       1.00      1.00      1.00      1009\n",
            "\n",
            "    accuracy                           1.00     10000\n",
            "   macro avg       1.00      1.00      1.00     10000\n",
            "weighted avg       1.00      1.00      1.00     10000\n",
            "\n"
          ]
        },
        {
          "output_type": "display_data",
          "data": {
            "text/plain": [
              "<Figure size 640x480 with 2 Axes>"
            ],
            "image/png": "[encoded data removed]"
          },
          "metadata": {}
        }
      ]
    },
    {
      "cell_type": "markdown",
      "source": [
        "### Save model object"
      ],
      "metadata": {
        "id": "h_L3_QW6PEx8"
      }
    },
    {
      "cell_type": "code",
      "source": [
        "from google.colab import drive\n",
        "drive.mount('/content/drive')"
      ],
      "metadata": {
        "colab": {
          "base_uri": "https://localhost:8080/"
        },
        "id": "ZGOhRTRJNB1U",
        "outputId": "0e2586c5-6f90-4132-fa63-2ba95278f6a7"
      },
      "execution_count": 47,
      "outputs": [
        {
          "output_type": "stream",
          "name": "stdout",
          "text": [
            "Mounted at /content/drive\n"
          ]
        }
      ]
    },
    {
      "cell_type": "code",
      "source": [
        "CNNmodel.save('drive/MyDrive/UT_AUSTIN/CNNmodel_mnist')"
      ],
      "metadata": {
        "id": "b1nPagxkngCq"
      },
      "execution_count": 49,
      "outputs": []
    },
    {
      "cell_type": "code",
      "source": [
        "CNNmodel2 = tf.keras.models.load_model('drive/MyDrive/UT_AUSTIN/CNNmodel_mnist')\n",
        "pred_probs2 = CNNmodel2.predict(x_test)\n",
        "pred2 = np.argmax(pred_probs2, axis=1)\n",
        "print(np.mean(pred2==y_test))"
      ],
      "metadata": {
        "id": "DGcxPvkRPgJI",
        "colab": {
          "base_uri": "https://localhost:8080/"
        },
        "outputId": "d72b81ca-915b-4535-eb34-38b090ad5fc7"
      },
      "execution_count": 50,
      "outputs": [
        {
          "output_type": "stream",
          "name": "stdout",
          "text": [
            "313/313 [==============================] - 1s 2ms/step\n",
            "0.9961\n"
          ]
        }
      ]
    },
    {
      "cell_type": "markdown",
      "source": [
        "# ViT"
      ],
      "metadata": {
        "id": "RlS6f7eqP27R"
      }
    },
    {
      "cell_type": "code",
      "source": [
        "custom_optimizer2 = tf.keras.optimizers.Adam(learning_rate=0.003)"
      ],
      "metadata": {
        "id": "BXqC49ULbBzV"
      },
      "execution_count": null,
      "outputs": []
    },
    {
      "cell_type": "code",
      "source": [
        "class ClassToken(tf.keras.layers.Layer):\n",
        "    def __init__(self):\n",
        "        super().__init__()\n",
        "\n",
        "    def build(self, input_shape):\n",
        "        w_init = tf.random_normal_initializer()\n",
        "        self.w = tf.Variable(\n",
        "            initial_value = w_init(shape=(1, 1, input_shape[-1]), dtype=tf.float32),\n",
        "            trainable = True\n",
        "        )\n",
        "\n",
        "    def call(self, inputs):\n",
        "        batch_size = tf.shape(inputs)[0]\n",
        "        hidden_dim = self.w.shape[-1]\n",
        "\n",
        "        cls = tf.broadcast_to(self.w, [batch_size, 1, hidden_dim])\n",
        "        cls = tf.cast(cls, dtype=inputs.dtype)\n",
        "        return cls"
      ],
      "metadata": {
        "id": "grt6gtw_P4Qv"
      },
      "execution_count": null,
      "outputs": []
    },
    {
      "cell_type": "code",
      "source": [
        "def build_ViT(n,m,block_size,hidden_dim,num_layers,num_heads,key_dim,mlp_dim,dropout_rate,num_classes):\n",
        "    # n is number of rows of blocks\n",
        "    # m is number of cols of blocks\n",
        "    # block_size is number of pixels (with rgb) in each block\n",
        "\n",
        "    inp = tf.keras.layers.Input(shape=(n*m,block_size)) #input subcuadrados de imagen\n",
        "    inp2 = tf.keras.layers.Input(shape=(n*m)) #for positional embedding\n",
        "    mid = tf.keras.layers.Dense(hidden_dim)(inp) # transform to vectors with different dimension\n",
        "    # the positional embeddings\n",
        "#     positions = tf.range(start=0, limit=n*m, delta=1)\n",
        "    emb = tf.keras.layers.Embedding(input_dim=n*m, output_dim=hidden_dim)(inp2) # learned positional embedding for each of the n*m possible possitions\n",
        "    mid = mid + emb # for some reason, tf.keras.layers.Add causes an error, but + doesn't?\n",
        "    # create and append class token to beginning of all input vectors\n",
        "    token = ClassToken()(mid) # append class token to beginning of sequence\n",
        "    mid = tf.keras.layers.Concatenate(axis=1)([token, mid])\n",
        "\n",
        "    for l in range(num_layers): # how many Transformer Head layers are there?\n",
        "        ln  = tf.keras.layers.LayerNormalization()(mid) # normalize\n",
        "        mha = tf.keras.layers.MultiHeadAttention(num_heads=num_heads,key_dim=key_dim,value_dim=key_dim)(ln,ln,ln) # self attention!\n",
        "        add = tf.keras.layers.Add()([mid,mha]) # add and norm\n",
        "        ln  = tf.keras.layers.LayerNormalization()(add)\n",
        "        den = tf.keras.layers.Dense(mlp_dim,activation='gelu')(ln) # maybe should be relu...who knows...\n",
        "        den = tf.keras.layers.Dropout(dropout_rate)(den) # regularization\n",
        "        den = tf.keras.layers.Dense(hidden_dim)(den) # back to the right dimensional space\n",
        "        den = tf.keras.layers.Dropout(dropout_rate)(den)\n",
        "        mid = tf.keras.layers.Add()([den,add]) # add and norm again\n",
        "    ln = tf.keras.layers.LayerNormalization()(mid)\n",
        "    fl = ln[:,0,:] # just grab the class token for each image in batch\n",
        "    clas = tf.keras.layers.Dense(num_classes,activation='softmax')(fl) # probability that the image is in each category\n",
        "    mod = tf.keras.models.Model([inp,inp2],clas)\n",
        "    mod.compile(optimizer=custom_optimizer2,loss='sparse_categorical_crossentropy',metrics=['accuracy'])\n",
        "    return mod"
      ],
      "metadata": {
        "id": "PNe9ovyzP4jK"
      },
      "execution_count": null,
      "outputs": []
    },
    {
      "cell_type": "code",
      "source": [
        "n = 4\n",
        "m = 4\n",
        "block_size = 49\n",
        "hidden_dim = 128\n",
        "num_layers = 4\n",
        "num_heads = 8\n",
        "key_dim = hidden_dim//num_heads # usually good practice for key_dim to be hidden_dim//num_heads...this is why we do Multi-Head attention\n",
        "mlp_dim = hidden_dim\n",
        "dropout_rate = 0.1\n",
        "num_classes = 10\n",
        "\n",
        "trans = build_ViT(n,m,block_size,hidden_dim,num_layers,num_heads,key_dim,mlp_dim,dropout_rate,num_classes)\n",
        "trans.summary()"
      ],
      "metadata": {
        "id": "F3j13xzdP4lf"
      },
      "execution_count": null,
      "outputs": []
    },
    {
      "cell_type": "code",
      "source": [
        "x_train_ravel = np.zeros((ndata_train,n*m,block_size))\n",
        "for img in range(ndata_train):\n",
        "    ind = 0\n",
        "    for row in range(n):\n",
        "        for col in range(m):\n",
        "            x_train_ravel[img,ind,:] = x_train[img,(row*7):((row+1)*7),(col*7):((col+1)*7)].ravel()\n",
        "            ind += 1"
      ],
      "metadata": {
        "id": "ehB4857mR1jq"
      },
      "execution_count": null,
      "outputs": []
    },
    {
      "cell_type": "code",
      "source": [
        "x_test_ravel = np.zeros((ndata_test,n*m,block_size))\n",
        "for img in range(ndata_test):\n",
        "    ind = 0\n",
        "    for row in range(n):\n",
        "        for col in range(m):\n",
        "            x_test_ravel[img,ind,:] = x_test[img,(row*7):((row+1)*7),(col*7):((col+1)*7)].ravel()\n",
        "            ind += 1"
      ],
      "metadata": {
        "id": "ReNz3nURR1gj"
      },
      "execution_count": null,
      "outputs": []
    },
    {
      "cell_type": "code",
      "source": [
        "pos_feed_train = np.array([list(range(n*m))]*ndata_train)\n",
        "pos_feed_test = np.array([list(range(n*m))]*ndata_test)"
      ],
      "metadata": {
        "id": "0oq5cTA_R1de"
      },
      "execution_count": null,
      "outputs": []
    },
    {
      "cell_type": "code",
      "source": [
        "trans.fit([x_train_ravel,pos_feed_train],y_train,epochs=200,batch_size = 120,validation_split=0.2)"
      ],
      "metadata": {
        "id": "HLNrpcmhR1bJ"
      },
      "execution_count": null,
      "outputs": []
    },
    {
      "cell_type": "code",
      "source": [
        " out = trans.evaluate([x_test_ravel,pos_feed_test],y_test)\n",
        "out"
      ],
      "metadata": {
        "id": "BYR58TtvR8PH"
      },
      "execution_count": null,
      "outputs": []
    },
    {
      "cell_type": "code",
      "source": [],
      "metadata": {
        "id": "nicBzOUzR8MJ"
      },
      "execution_count": null,
      "outputs": []
    },
    {
      "cell_type": "code",
      "source": [],
      "metadata": {
        "id": "AHbR2cRCR8JW"
      },
      "execution_count": null,
      "outputs": []
    },
    {
      "cell_type": "code",
      "source": [
        "For the transformer, you can use different hidden, key/query, and value dimensions, different number of heads for the MHSA layers, different number of layers\n"
      ],
      "metadata": {
        "id": "gyAZQ4vHP4n0"
      },
      "execution_count": null,
      "outputs": []
    },
    {
      "cell_type": "code",
      "source": [],
      "metadata": {
        "id": "leTfjnubP4qK"
      },
      "execution_count": null,
      "outputs": []
    }
  ]
}